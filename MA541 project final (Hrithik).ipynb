{
 "cells": [
  {
   "cell_type": "markdown",
   "id": "fcebc37b",
   "metadata": {},
   "source": [
    "# Exploring the different relationships between Fuel Consumption, Fuel Type, Engine Size and CO2 emissions : A Statistical Analysis"
   ]
  },
  {
   "cell_type": "markdown",
   "id": "02a63b65",
   "metadata": {},
   "source": [
    "### Importing Necessary libraries and modules"
   ]
  },
  {
   "cell_type": "code",
   "execution_count": 1,
   "id": "69cadae6",
   "metadata": {},
   "outputs": [],
   "source": [
    "import pandas as pd\n",
    "import numpy as np\n",
    "from sklearn.model_selection import train_test_split\n",
    "from sklearn.linear_model import LinearRegression\n",
    "from sklearn.metrics import mean_squared_error\n",
    "from sklearn.preprocessing import LabelEncoder\n",
    "from sklearn.model_selection import cross_val_score\n",
    "from scipy.stats import norm\n",
    "from scipy.stats import chi2_contingency\n",
    "import statsmodels.formula.api as smf\n",
    "import seaborn as sns\n",
    "import matplotlib.pyplot as plt\n",
    "from sklearn.linear_model import Ridge\n",
    "from sklearn.linear_model import Lasso\n",
    "from sklearn.pipeline import make_pipeline\n",
    "from sklearn.model_selection import GridSearchCV\n",
    "from sklearn.preprocessing import StandardScaler\n",
    "from scipy.stats import f\n",
    "from scipy.stats import f_oneway\n",
    "import statsmodels.stats.multicomp as mc\n",
    "from sklearn.preprocessing import PolynomialFeatures\n",
    "from sklearn.metrics import r2_score\n",
    "import pwlf\n",
    "from scipy.interpolate import make_interp_spline, BSpline\n",
    "from scipy.interpolate import CubicSpline\n",
    "from scipy.interpolate import interp1d"
   ]
  },
  {
   "cell_type": "markdown",
   "id": "c10f6580",
   "metadata": {},
   "source": [
    "### Importing the dataset"
   ]
  },
  {
   "cell_type": "code",
   "execution_count": 2,
   "id": "9909d562",
   "metadata": {},
   "outputs": [],
   "source": [
    "filename = \"C:/Users/15513/OneDrive - stevens.edu/Fuel consumption-MA541.csv\"\n",
    "df = pd.read_csv(filename)"
   ]
  },
  {
   "cell_type": "code",
   "execution_count": 3,
   "id": "be9c7db9",
   "metadata": {},
   "outputs": [
    {
     "data": {
      "text/html": [
       "<div>\n",
       "<style scoped>\n",
       "    .dataframe tbody tr th:only-of-type {\n",
       "        vertical-align: middle;\n",
       "    }\n",
       "\n",
       "    .dataframe tbody tr th {\n",
       "        vertical-align: top;\n",
       "    }\n",
       "\n",
       "    .dataframe thead th {\n",
       "        text-align: right;\n",
       "    }\n",
       "</style>\n",
       "<table border=\"1\" class=\"dataframe\">\n",
       "  <thead>\n",
       "    <tr style=\"text-align: right;\">\n",
       "      <th></th>\n",
       "      <th>Make</th>\n",
       "      <th>Vehicle Class</th>\n",
       "      <th>Engine Size(L)</th>\n",
       "      <th>Cylinders</th>\n",
       "      <th>Fuel Type</th>\n",
       "      <th>Fuel Consumption (City (L/100 km)</th>\n",
       "      <th>Fuel Consumption(Hwy (L/100 km))</th>\n",
       "      <th>CO2 Emissions(g/km)</th>\n",
       "    </tr>\n",
       "  </thead>\n",
       "  <tbody>\n",
       "    <tr>\n",
       "      <th>0</th>\n",
       "      <td>Audi</td>\n",
       "      <td>Subcompact</td>\n",
       "      <td>2.0</td>\n",
       "      <td>4</td>\n",
       "      <td>X</td>\n",
       "      <td>8.5</td>\n",
       "      <td>6.6</td>\n",
       "      <td>178</td>\n",
       "    </tr>\n",
       "    <tr>\n",
       "      <th>1</th>\n",
       "      <td>Audi</td>\n",
       "      <td>SUV: Small</td>\n",
       "      <td>2.0</td>\n",
       "      <td>4</td>\n",
       "      <td>X</td>\n",
       "      <td>10.4</td>\n",
       "      <td>7.7</td>\n",
       "      <td>215</td>\n",
       "    </tr>\n",
       "    <tr>\n",
       "      <th>2</th>\n",
       "      <td>Audi</td>\n",
       "      <td>SUV: Small</td>\n",
       "      <td>2.0</td>\n",
       "      <td>4</td>\n",
       "      <td>X</td>\n",
       "      <td>11.4</td>\n",
       "      <td>8.3</td>\n",
       "      <td>233</td>\n",
       "    </tr>\n",
       "    <tr>\n",
       "      <th>3</th>\n",
       "      <td>Audi</td>\n",
       "      <td>Subcompact</td>\n",
       "      <td>2.0</td>\n",
       "      <td>4</td>\n",
       "      <td>X</td>\n",
       "      <td>10.5</td>\n",
       "      <td>7.9</td>\n",
       "      <td>218</td>\n",
       "    </tr>\n",
       "    <tr>\n",
       "      <th>4</th>\n",
       "      <td>Audi</td>\n",
       "      <td>Two-seater</td>\n",
       "      <td>2.0</td>\n",
       "      <td>4</td>\n",
       "      <td>X</td>\n",
       "      <td>10.5</td>\n",
       "      <td>7.9</td>\n",
       "      <td>218</td>\n",
       "    </tr>\n",
       "  </tbody>\n",
       "</table>\n",
       "</div>"
      ],
      "text/plain": [
       "   Make Vehicle Class  Engine Size(L)  Cylinders Fuel Type  \\\n",
       "0  Audi    Subcompact             2.0          4         X   \n",
       "1  Audi    SUV: Small             2.0          4         X   \n",
       "2  Audi    SUV: Small             2.0          4         X   \n",
       "3  Audi    Subcompact             2.0          4         X   \n",
       "4  Audi    Two-seater             2.0          4         X   \n",
       "\n",
       "   Fuel Consumption (City (L/100 km)  Fuel Consumption(Hwy (L/100 km))  \\\n",
       "0                                8.5                               6.6   \n",
       "1                               10.4                               7.7   \n",
       "2                               11.4                               8.3   \n",
       "3                               10.5                               7.9   \n",
       "4                               10.5                               7.9   \n",
       "\n",
       "   CO2 Emissions(g/km)  \n",
       "0                  178  \n",
       "1                  215  \n",
       "2                  233  \n",
       "3                  218  \n",
       "4                  218  "
      ]
     },
     "execution_count": 3,
     "metadata": {},
     "output_type": "execute_result"
    }
   ],
   "source": [
    "df.head()"
   ]
  },
  {
   "cell_type": "code",
   "execution_count": 4,
   "id": "ca0b5b2d",
   "metadata": {},
   "outputs": [
    {
     "data": {
      "text/html": [
       "<div>\n",
       "<style scoped>\n",
       "    .dataframe tbody tr th:only-of-type {\n",
       "        vertical-align: middle;\n",
       "    }\n",
       "\n",
       "    .dataframe tbody tr th {\n",
       "        vertical-align: top;\n",
       "    }\n",
       "\n",
       "    .dataframe thead th {\n",
       "        text-align: right;\n",
       "    }\n",
       "</style>\n",
       "<table border=\"1\" class=\"dataframe\">\n",
       "  <thead>\n",
       "    <tr style=\"text-align: right;\">\n",
       "      <th></th>\n",
       "      <th>Engine Size(L)</th>\n",
       "      <th>Cylinders</th>\n",
       "      <th>Fuel Consumption (City (L/100 km)</th>\n",
       "      <th>Fuel Consumption(Hwy (L/100 km))</th>\n",
       "      <th>CO2 Emissions(g/km)</th>\n",
       "    </tr>\n",
       "  </thead>\n",
       "  <tbody>\n",
       "    <tr>\n",
       "      <th>count</th>\n",
       "      <td>904.000000</td>\n",
       "      <td>904.000000</td>\n",
       "      <td>904.000000</td>\n",
       "      <td>904.000000</td>\n",
       "      <td>904.000000</td>\n",
       "    </tr>\n",
       "    <tr>\n",
       "      <th>mean</th>\n",
       "      <td>3.186504</td>\n",
       "      <td>5.646018</td>\n",
       "      <td>12.430420</td>\n",
       "      <td>9.297788</td>\n",
       "      <td>258.235619</td>\n",
       "    </tr>\n",
       "    <tr>\n",
       "      <th>std</th>\n",
       "      <td>1.388912</td>\n",
       "      <td>1.955407</td>\n",
       "      <td>3.380256</td>\n",
       "      <td>2.200336</td>\n",
       "      <td>65.418415</td>\n",
       "    </tr>\n",
       "    <tr>\n",
       "      <th>min</th>\n",
       "      <td>1.200000</td>\n",
       "      <td>3.000000</td>\n",
       "      <td>4.000000</td>\n",
       "      <td>3.900000</td>\n",
       "      <td>94.000000</td>\n",
       "    </tr>\n",
       "    <tr>\n",
       "      <th>25%</th>\n",
       "      <td>2.000000</td>\n",
       "      <td>4.000000</td>\n",
       "      <td>10.100000</td>\n",
       "      <td>7.700000</td>\n",
       "      <td>211.750000</td>\n",
       "    </tr>\n",
       "    <tr>\n",
       "      <th>50%</th>\n",
       "      <td>3.000000</td>\n",
       "      <td>6.000000</td>\n",
       "      <td>12.300000</td>\n",
       "      <td>9.200000</td>\n",
       "      <td>254.000000</td>\n",
       "    </tr>\n",
       "    <tr>\n",
       "      <th>75%</th>\n",
       "      <td>3.800000</td>\n",
       "      <td>6.000000</td>\n",
       "      <td>14.700000</td>\n",
       "      <td>10.600000</td>\n",
       "      <td>302.000000</td>\n",
       "    </tr>\n",
       "    <tr>\n",
       "      <th>max</th>\n",
       "      <td>8.000000</td>\n",
       "      <td>16.000000</td>\n",
       "      <td>30.300000</td>\n",
       "      <td>20.900000</td>\n",
       "      <td>608.000000</td>\n",
       "    </tr>\n",
       "  </tbody>\n",
       "</table>\n",
       "</div>"
      ],
      "text/plain": [
       "       Engine Size(L)   Cylinders  Fuel Consumption (City (L/100 km)  \\\n",
       "count      904.000000  904.000000                         904.000000   \n",
       "mean         3.186504    5.646018                          12.430420   \n",
       "std          1.388912    1.955407                           3.380256   \n",
       "min          1.200000    3.000000                           4.000000   \n",
       "25%          2.000000    4.000000                          10.100000   \n",
       "50%          3.000000    6.000000                          12.300000   \n",
       "75%          3.800000    6.000000                          14.700000   \n",
       "max          8.000000   16.000000                          30.300000   \n",
       "\n",
       "       Fuel Consumption(Hwy (L/100 km))  CO2 Emissions(g/km)  \n",
       "count                        904.000000           904.000000  \n",
       "mean                           9.297788           258.235619  \n",
       "std                            2.200336            65.418415  \n",
       "min                            3.900000            94.000000  \n",
       "25%                            7.700000           211.750000  \n",
       "50%                            9.200000           254.000000  \n",
       "75%                           10.600000           302.000000  \n",
       "max                           20.900000           608.000000  "
      ]
     },
     "execution_count": 4,
     "metadata": {},
     "output_type": "execute_result"
    }
   ],
   "source": [
    "df.describe()"
   ]
  },
  {
   "cell_type": "markdown",
   "id": "f16cc1c7",
   "metadata": {},
   "source": [
    "### To check for any NULL values or missing data"
   ]
  },
  {
   "cell_type": "code",
   "execution_count": 5,
   "id": "aa2ffdd4",
   "metadata": {},
   "outputs": [
    {
     "data": {
      "text/plain": [
       "Make                                 0\n",
       "Vehicle Class                        0\n",
       "Engine Size(L)                       0\n",
       "Cylinders                            0\n",
       "Fuel Type                            0\n",
       "Fuel Consumption (City (L/100 km)    0\n",
       "Fuel Consumption(Hwy (L/100 km))     0\n",
       "CO2 Emissions(g/km)                  0\n",
       "dtype: int64"
      ]
     },
     "execution_count": 5,
     "metadata": {},
     "output_type": "execute_result"
    }
   ],
   "source": [
    "df.isna().sum()"
   ]
  },
  {
   "cell_type": "markdown",
   "id": "256ae1f4",
   "metadata": {},
   "source": [
    "### We can see that there are no missing/Null values"
   ]
  },
  {
   "cell_type": "markdown",
   "id": "c5397b07",
   "metadata": {},
   "source": [
    "## Binning of column 'Enginesize(L)' to Small, Medium and Large."
   ]
  },
  {
   "cell_type": "code",
   "execution_count": 7,
   "id": "e4a9a109",
   "metadata": {},
   "outputs": [
    {
     "data": {
      "text/html": [
       "<div>\n",
       "<style scoped>\n",
       "    .dataframe tbody tr th:only-of-type {\n",
       "        vertical-align: middle;\n",
       "    }\n",
       "\n",
       "    .dataframe tbody tr th {\n",
       "        vertical-align: top;\n",
       "    }\n",
       "\n",
       "    .dataframe thead th {\n",
       "        text-align: right;\n",
       "    }\n",
       "</style>\n",
       "<table border=\"1\" class=\"dataframe\">\n",
       "  <thead>\n",
       "    <tr style=\"text-align: right;\">\n",
       "      <th></th>\n",
       "      <th>Make</th>\n",
       "      <th>Vehicle Class</th>\n",
       "      <th>Engine Size(L)</th>\n",
       "      <th>Cylinders</th>\n",
       "      <th>Fuel Type</th>\n",
       "      <th>Fuel Consumption (City (L/100 km)</th>\n",
       "      <th>Fuel Consumption(Hwy (L/100 km))</th>\n",
       "      <th>CO2 Emissions(g/km)</th>\n",
       "      <th>Engsizebinned</th>\n",
       "    </tr>\n",
       "  </thead>\n",
       "  <tbody>\n",
       "    <tr>\n",
       "      <th>0</th>\n",
       "      <td>Audi</td>\n",
       "      <td>Subcompact</td>\n",
       "      <td>2.0</td>\n",
       "      <td>4</td>\n",
       "      <td>X</td>\n",
       "      <td>8.5</td>\n",
       "      <td>6.6</td>\n",
       "      <td>178</td>\n",
       "      <td>Small</td>\n",
       "    </tr>\n",
       "    <tr>\n",
       "      <th>1</th>\n",
       "      <td>Audi</td>\n",
       "      <td>SUV: Small</td>\n",
       "      <td>2.0</td>\n",
       "      <td>4</td>\n",
       "      <td>X</td>\n",
       "      <td>10.4</td>\n",
       "      <td>7.7</td>\n",
       "      <td>215</td>\n",
       "      <td>Small</td>\n",
       "    </tr>\n",
       "    <tr>\n",
       "      <th>2</th>\n",
       "      <td>Audi</td>\n",
       "      <td>SUV: Small</td>\n",
       "      <td>2.0</td>\n",
       "      <td>4</td>\n",
       "      <td>X</td>\n",
       "      <td>11.4</td>\n",
       "      <td>8.3</td>\n",
       "      <td>233</td>\n",
       "      <td>Small</td>\n",
       "    </tr>\n",
       "    <tr>\n",
       "      <th>3</th>\n",
       "      <td>Audi</td>\n",
       "      <td>Subcompact</td>\n",
       "      <td>2.0</td>\n",
       "      <td>4</td>\n",
       "      <td>X</td>\n",
       "      <td>10.5</td>\n",
       "      <td>7.9</td>\n",
       "      <td>218</td>\n",
       "      <td>Small</td>\n",
       "    </tr>\n",
       "    <tr>\n",
       "      <th>4</th>\n",
       "      <td>Audi</td>\n",
       "      <td>Two-seater</td>\n",
       "      <td>2.0</td>\n",
       "      <td>4</td>\n",
       "      <td>X</td>\n",
       "      <td>10.5</td>\n",
       "      <td>7.9</td>\n",
       "      <td>218</td>\n",
       "      <td>Small</td>\n",
       "    </tr>\n",
       "    <tr>\n",
       "      <th>...</th>\n",
       "      <td>...</td>\n",
       "      <td>...</td>\n",
       "      <td>...</td>\n",
       "      <td>...</td>\n",
       "      <td>...</td>\n",
       "      <td>...</td>\n",
       "      <td>...</td>\n",
       "      <td>...</td>\n",
       "      <td>...</td>\n",
       "    </tr>\n",
       "    <tr>\n",
       "      <th>899</th>\n",
       "      <td>Volvo</td>\n",
       "      <td>SUV: Small</td>\n",
       "      <td>2.0</td>\n",
       "      <td>4</td>\n",
       "      <td>Z</td>\n",
       "      <td>10.7</td>\n",
       "      <td>7.7</td>\n",
       "      <td>219</td>\n",
       "      <td>Small</td>\n",
       "    </tr>\n",
       "    <tr>\n",
       "      <th>900</th>\n",
       "      <td>Volvo</td>\n",
       "      <td>SUV: Small</td>\n",
       "      <td>2.0</td>\n",
       "      <td>4</td>\n",
       "      <td>Z</td>\n",
       "      <td>10.5</td>\n",
       "      <td>8.1</td>\n",
       "      <td>219</td>\n",
       "      <td>Small</td>\n",
       "    </tr>\n",
       "    <tr>\n",
       "      <th>901</th>\n",
       "      <td>Volvo</td>\n",
       "      <td>SUV: Small</td>\n",
       "      <td>2.0</td>\n",
       "      <td>4</td>\n",
       "      <td>Z</td>\n",
       "      <td>11.0</td>\n",
       "      <td>8.7</td>\n",
       "      <td>232</td>\n",
       "      <td>Small</td>\n",
       "    </tr>\n",
       "    <tr>\n",
       "      <th>902</th>\n",
       "      <td>Volvo</td>\n",
       "      <td>SUV: Standard</td>\n",
       "      <td>2.0</td>\n",
       "      <td>4</td>\n",
       "      <td>Z</td>\n",
       "      <td>11.5</td>\n",
       "      <td>8.4</td>\n",
       "      <td>236</td>\n",
       "      <td>Small</td>\n",
       "    </tr>\n",
       "    <tr>\n",
       "      <th>903</th>\n",
       "      <td>Volvo</td>\n",
       "      <td>SUV: Standard</td>\n",
       "      <td>2.0</td>\n",
       "      <td>4</td>\n",
       "      <td>Z</td>\n",
       "      <td>12.4</td>\n",
       "      <td>8.9</td>\n",
       "      <td>252</td>\n",
       "      <td>Small</td>\n",
       "    </tr>\n",
       "  </tbody>\n",
       "</table>\n",
       "<p>904 rows × 9 columns</p>\n",
       "</div>"
      ],
      "text/plain": [
       "      Make  Vehicle Class  Engine Size(L)  Cylinders Fuel Type  \\\n",
       "0     Audi     Subcompact             2.0          4         X   \n",
       "1     Audi     SUV: Small             2.0          4         X   \n",
       "2     Audi     SUV: Small             2.0          4         X   \n",
       "3     Audi     Subcompact             2.0          4         X   \n",
       "4     Audi     Two-seater             2.0          4         X   \n",
       "..     ...            ...             ...        ...       ...   \n",
       "899  Volvo     SUV: Small             2.0          4         Z   \n",
       "900  Volvo     SUV: Small             2.0          4         Z   \n",
       "901  Volvo     SUV: Small             2.0          4         Z   \n",
       "902  Volvo  SUV: Standard             2.0          4         Z   \n",
       "903  Volvo  SUV: Standard             2.0          4         Z   \n",
       "\n",
       "     Fuel Consumption (City (L/100 km)  Fuel Consumption(Hwy (L/100 km))  \\\n",
       "0                                  8.5                               6.6   \n",
       "1                                 10.4                               7.7   \n",
       "2                                 11.4                               8.3   \n",
       "3                                 10.5                               7.9   \n",
       "4                                 10.5                               7.9   \n",
       "..                                 ...                               ...   \n",
       "899                               10.7                               7.7   \n",
       "900                               10.5                               8.1   \n",
       "901                               11.0                               8.7   \n",
       "902                               11.5                               8.4   \n",
       "903                               12.4                               8.9   \n",
       "\n",
       "     CO2 Emissions(g/km) Engsizebinned  \n",
       "0                    178         Small  \n",
       "1                    215         Small  \n",
       "2                    233         Small  \n",
       "3                    218         Small  \n",
       "4                    218         Small  \n",
       "..                   ...           ...  \n",
       "899                  219         Small  \n",
       "900                  219         Small  \n",
       "901                  232         Small  \n",
       "902                  236         Small  \n",
       "903                  252         Small  \n",
       "\n",
       "[904 rows x 9 columns]"
      ]
     },
     "execution_count": 7,
     "metadata": {},
     "output_type": "execute_result"
    }
   ],
   "source": [
    "df['Engsizebinned'] = pd.qcut(df['Engine Size(L)'],\n",
    "                           q=[0, .4, .7, 1],\n",
    "                           labels=['Small', 'Medium', 'Large',])\n",
    "df"
   ]
  },
  {
   "cell_type": "markdown",
   "id": "51f40161",
   "metadata": {},
   "source": [
    "### Since our datasets contains more than 900 rows (which is obviously greater than 30), we can say by Central Limit Theorem that we can assume that the sampling distribution of the mean will be approximately normal, even if the distribution of the individual data points in the dataset is not normal. "
   ]
  },
  {
   "cell_type": "markdown",
   "id": "a1f1678b",
   "metadata": {},
   "source": [
    "# 4.1 Comparing Two Samples"
   ]
  },
  {
   "cell_type": "markdown",
   "id": "4fcf9cc0",
   "metadata": {},
   "source": [
    "### We can use the mean of our dataset as a good estimator of the population mean, and we can also use statistical tests that rely on the normality assumption, such as the t-test or z-test."
   ]
  },
  {
   "cell_type": "markdown",
   "id": "4351d836",
   "metadata": {},
   "source": [
    "### Now, let's perform a two-sample Z-test to compare the means of 'Fuel Consumption (City (L/100 km)' between the two fuel types: X and Z"
   ]
  },
  {
   "cell_type": "code",
   "execution_count": 8,
   "id": "797cee96",
   "metadata": {},
   "outputs": [],
   "source": [
    "# Splitting the data into two groups based on fuel type\n",
    "fuel_x = df[df['Fuel Type'] == 'X']['Fuel Consumption (City (L/100 km)']\n",
    "fuel_z = df[df['Fuel Type'] == 'Z']['Fuel Consumption (City (L/100 km)']\n",
    "\n",
    "# Calculate the sample means and standard deviations for each group\n",
    "mean_x = fuel_x.mean()\n",
    "mean_z = fuel_z.mean()\n",
    "std_x = fuel_x.std()\n",
    "std_z = fuel_z.std()\n",
    "\n",
    "# Calculate the standard error of the difference between the means\n",
    "se_diff = np.sqrt((std_x**2 / len(fuel_x)) + (std_z**2 / len(fuel_z)))\n",
    "\n",
    "# Calculate the Z-score\n",
    "z_score = (mean_x - mean_z) / se_diff\n",
    "\n",
    "# Calculate the p-value\n",
    "p_value = 2 * (1 - norm.cdf(abs(z_score))) "
   ]
  },
  {
   "cell_type": "code",
   "execution_count": 9,
   "id": "5bdc08f1",
   "metadata": {},
   "outputs": [
    {
     "name": "stdout",
     "output_type": "stream",
     "text": [
      "Z-score: -11.30347999594787\n",
      "p-value: 0.0\n"
     ]
    }
   ],
   "source": [
    "print('Z-score:', z_score)\n",
    "print('p-value:', p_value)"
   ]
  },
  {
   "cell_type": "markdown",
   "id": "9cc4bfd1",
   "metadata": {},
   "source": [
    "### The Z-score of -11.303 and a p-value of 0.0 indicate that there is a statistically significant difference between the mean 'Fuel Consumption (City (L/100 km)' for the two fuel types. Since the p-value is less than the commonly used significance level of 0.05, we can reject the null hypothesis that the means are equal and conclude that there is strong evidence to support the alternative hypothesis that there is a difference in mean fuel consumption between 'Fuel Type X' and 'Fuel Type Z'."
   ]
  },
  {
   "cell_type": "markdown",
   "id": "d5f9e19c",
   "metadata": {},
   "source": [
    "## We can also do the F-test to compare the variances of the 'Fuel Consumption (City (L/100 km)' between the two fuel types 'X' and 'Z'."
   ]
  },
  {
   "cell_type": "code",
   "execution_count": 10,
   "id": "d72fdb7f",
   "metadata": {},
   "outputs": [],
   "source": [
    "# Calculate the variances for each group\n",
    "var_x = fuel_x.var()\n",
    "var_z = fuel_z.var()\n",
    "\n",
    "# Calculate the F-statistic\n",
    "f_stat = var_x / var_z\n",
    "\n",
    "# Calculate the p-value\n",
    "df1 = len(fuel_x) - 1\n",
    "df2 = len(fuel_z) - 1\n",
    "p_value = 2 * min(f.cdf(f_stat, df1, df2), 1 - f.cdf(f_stat, df1, df2))"
   ]
  },
  {
   "cell_type": "code",
   "execution_count": 11,
   "id": "66a6e58d",
   "metadata": {},
   "outputs": [
    {
     "name": "stdout",
     "output_type": "stream",
     "text": [
      "F-statistic: 0.8881432207603536\n",
      "p-value: 0.20851835436063942\n"
     ]
    }
   ],
   "source": [
    "print('F-statistic:', f_stat)\n",
    "print('p-value:', p_value)"
   ]
  },
  {
   "cell_type": "markdown",
   "id": "6485b8b2",
   "metadata": {},
   "source": [
    "### The F-statistic of 0.888 and the p-value of 0.209 suggest that there is no significant difference in the variances of 'Fuel Consumption (City (L/100 km)' between the two fuel types. Since the p-value is greater than the commonly used significance level of 0.05, we fail to reject the null hypothesis that the variances are equal."
   ]
  },
  {
   "cell_type": "markdown",
   "id": "546a24f5",
   "metadata": {},
   "source": [
    "# 4.2 The Analysis of Variance"
   ]
  },
  {
   "cell_type": "markdown",
   "id": "5464b0b2",
   "metadata": {},
   "source": [
    "## Let's consider the binned column 'Engsizebinned' which has 3 categories: 'Small','Medium' and 'Large'. We can perform one-way ANOVA test here since there are more than 2 groups that are being considered. Here we are perfroming ANOVA of 'Engsizebinned' over 'CO2 Emissions(g/km)'"
   ]
  },
  {
   "cell_type": "code",
   "execution_count": 12,
   "id": "04df61f2",
   "metadata": {},
   "outputs": [],
   "source": [
    "small_eng = df[df['Engsizebinned'] == 'Small']['CO2 Emissions(g/km)']\n",
    "med_eng = df[df['Engsizebinned'] == 'Medium']['CO2 Emissions(g/km)']\n",
    "large_eng = df[df['Engsizebinned'] == 'Large']['CO2 Emissions(g/km)']\n",
    "f_stat, p_value = f_oneway(small_eng, med_eng, large_eng)"
   ]
  },
  {
   "cell_type": "code",
   "execution_count": 13,
   "id": "e63d35af",
   "metadata": {},
   "outputs": [
    {
     "name": "stdout",
     "output_type": "stream",
     "text": [
      "F-statistic: 849.2263256437644\n",
      "p-value: 5.002848265980419e-208\n"
     ]
    }
   ],
   "source": [
    "print('F-statistic:', f_stat)\n",
    "print('p-value:', p_value)"
   ]
  },
  {
   "cell_type": "markdown",
   "id": "6d42ba81",
   "metadata": {},
   "source": [
    "### The F-statistic of 849.2263256437644 and the p-value of 5.002848265980419e-208 indicate that there is a significant difference in means between at least two of the groups in the data. The extremely small p-value indicates that it is very unlikely to observe such a large F-statistic by chance, assuming the null hypothesis is true. Therefore, we can reject the null hypothesis of equal means across all groups and conclude that there is a significant difference in means between at least two groups."
   ]
  },
  {
   "cell_type": "markdown",
   "id": "70b98fe6",
   "metadata": {},
   "source": [
    "## To determine which specific groups have significantly different means, we can perform a post-hoc test, such as Tukey's test. This test can help identify the specific groups that differ significantly from each other. "
   ]
  },
  {
   "cell_type": "code",
   "execution_count": 14,
   "id": "b8fbfecd",
   "metadata": {},
   "outputs": [
    {
     "name": "stdout",
     "output_type": "stream",
     "text": [
      "  Multiple Comparison of Means - Tukey HSD, FWER=0.05   \n",
      "========================================================\n",
      "group1 group2  meandiff p-adj   lower     upper   reject\n",
      "--------------------------------------------------------\n",
      " Large Medium  -65.8854   0.0  -74.0295  -57.7413   True\n",
      " Large  Small -128.5753   0.0 -135.9646 -121.1859   True\n",
      "Medium  Small  -62.6899   0.0  -69.8863  -55.4935   True\n",
      "--------------------------------------------------------\n"
     ]
    }
   ],
   "source": [
    "mc_object = mc.MultiComparison(df['CO2 Emissions(g/km)'], df['Engsizebinned'])\n",
    "result = mc_object.tukeyhsd()\n",
    "print(result.summary())"
   ]
  },
  {
   "cell_type": "markdown",
   "id": "64392a31",
   "metadata": {},
   "source": [
    "### We can see that all pairwise comparisons of means are statistically significant at the 0.05 significance level, as the p-values for all comparisons are less than 0.05."
   ]
  },
  {
   "cell_type": "markdown",
   "id": "828ece51",
   "metadata": {},
   "source": [
    "### The output also provides information on the mean differences, their standard errors, and 95% confidence intervals for each pairwise comparison. For example, the mean difference between the Large and Medium groups is -65.8854, which means that the mean 'CO2 Emissions(g/km)' for the Large group is 65.8854 lower than the mean for the Medium group. The 95% confidence interval for this difference is [-74.0295, -57.7413]. Similarly, we can see that the mean 'CO2 Emissions(g/km)' for the Large group is 128.5753 lower than the Small group and 62.6899 lower for the Medium group compared to the Small group, with 95% confidence intervals of [-135.9646, -121.1859] and [-69.8863, -55.4935], respectively."
   ]
  },
  {
   "cell_type": "markdown",
   "id": "cbd402cf",
   "metadata": {},
   "source": [
    "# 4.3 The Analysis of Categorical Data"
   ]
  },
  {
   "cell_type": "markdown",
   "id": "06a89cf5",
   "metadata": {},
   "source": [
    "### Let's do a Chi-squared test to analyze 2 categorical columns 'Engsizebinned' and 'Fuel Type' to see if there is any relationship between their means."
   ]
  },
  {
   "cell_type": "code",
   "execution_count": 15,
   "id": "17d91367",
   "metadata": {},
   "outputs": [],
   "source": [
    "cont_table = pd.crosstab(df['Engsizebinned'], df['Fuel Type'])\n",
    "stat, p, dof, expected = chi2_contingency(cont_table)"
   ]
  },
  {
   "cell_type": "code",
   "execution_count": 16,
   "id": "bf88c547",
   "metadata": {},
   "outputs": [
    {
     "data": {
      "text/html": [
       "<div>\n",
       "<style scoped>\n",
       "    .dataframe tbody tr th:only-of-type {\n",
       "        vertical-align: middle;\n",
       "    }\n",
       "\n",
       "    .dataframe tbody tr th {\n",
       "        vertical-align: top;\n",
       "    }\n",
       "\n",
       "    .dataframe thead th {\n",
       "        text-align: right;\n",
       "    }\n",
       "</style>\n",
       "<table border=\"1\" class=\"dataframe\">\n",
       "  <thead>\n",
       "    <tr style=\"text-align: right;\">\n",
       "      <th>Fuel Type</th>\n",
       "      <th>X</th>\n",
       "      <th>Z</th>\n",
       "    </tr>\n",
       "    <tr>\n",
       "      <th>Engsizebinned</th>\n",
       "      <th></th>\n",
       "      <th></th>\n",
       "    </tr>\n",
       "  </thead>\n",
       "  <tbody>\n",
       "    <tr>\n",
       "      <th>Small</th>\n",
       "      <td>267</td>\n",
       "      <td>142</td>\n",
       "    </tr>\n",
       "    <tr>\n",
       "      <th>Medium</th>\n",
       "      <td>107</td>\n",
       "      <td>151</td>\n",
       "    </tr>\n",
       "    <tr>\n",
       "      <th>Large</th>\n",
       "      <td>72</td>\n",
       "      <td>165</td>\n",
       "    </tr>\n",
       "  </tbody>\n",
       "</table>\n",
       "</div>"
      ],
      "text/plain": [
       "Fuel Type        X    Z\n",
       "Engsizebinned          \n",
       "Small          267  142\n",
       "Medium         107  151\n",
       "Large           72  165"
      ]
     },
     "execution_count": 16,
     "metadata": {},
     "output_type": "execute_result"
    }
   ],
   "source": [
    "cont_table"
   ]
  },
  {
   "cell_type": "code",
   "execution_count": 17,
   "id": "9ab68d89",
   "metadata": {},
   "outputs": [
    {
     "name": "stdout",
     "output_type": "stream",
     "text": [
      "Chi-squared statistic: 82.05564766687257\n",
      "p-value: 1.5199962085142224e-18\n",
      "Degrees of freedom: 2\n",
      "Expected frequencies:\n",
      " [[201.78539823 207.21460177]\n",
      " [127.28761062 130.71238938]\n",
      " [116.92699115 120.07300885]]\n"
     ]
    }
   ],
   "source": [
    "print(\"Chi-squared statistic:\", stat)\n",
    "print(\"p-value:\", p)\n",
    "print(\"Degrees of freedom:\", dof)\n",
    "print(\"Expected frequencies:\\n\", expected)"
   ]
  },
  {
   "cell_type": "markdown",
   "id": "fbaaaae8",
   "metadata": {},
   "source": [
    "### Since the p-value < 0.05, then we can reject the null hypothesis that there is no association between the two variables, and conclude that there is a statistically significant relationship between the 'Engsizebinned' and 'Fuel Type' variables."
   ]
  },
  {
   "cell_type": "markdown",
   "id": "69bef0ff",
   "metadata": {},
   "source": [
    "# 4.4 Linear Regression "
   ]
  },
  {
   "cell_type": "markdown",
   "id": "93d2fce2",
   "metadata": {},
   "source": [
    "###  We are performing multiple Linear regression to our dataset"
   ]
  },
  {
   "cell_type": "code",
   "execution_count": 18,
   "id": "389abe9d",
   "metadata": {},
   "outputs": [
    {
     "name": "stdout",
     "output_type": "stream",
     "text": [
      "                            OLS Regression Results                            \n",
      "==============================================================================\n",
      "Dep. Variable:           CO2emissions   R-squared:                       0.659\n",
      "Model:                            OLS   Adj. R-squared:                  0.658\n",
      "Method:                 Least Squares   F-statistic:                     580.5\n",
      "Date:                Sun, 30 Apr 2023   Prob (F-statistic):          7.33e-210\n",
      "Time:                        23:16:10   Log-Likelihood:                -4575.0\n",
      "No. Observations:                 904   AIC:                             9158.\n",
      "Df Residuals:                     900   BIC:                             9177.\n",
      "Df Model:                           3                                         \n",
      "Covariance Type:            nonrobust                                         \n",
      "===========================================================================================\n",
      "                              coef    std err          t      P>|t|      [0.025      0.975]\n",
      "-------------------------------------------------------------------------------------------\n",
      "Intercept                 202.9792      2.106     96.381      0.000     198.846     207.112\n",
      "Fueltype[T.Z]              10.5318      2.668      3.947      0.000       5.295      15.769\n",
      "Engsizebinned[T.Medium]    60.1824      3.107     19.372      0.000      54.085      66.279\n",
      "Engsizebinned[T.Large]    124.8995      3.258     38.331      0.000     118.505     131.294\n",
      "==============================================================================\n",
      "Omnibus:                      266.920   Durbin-Watson:                   0.929\n",
      "Prob(Omnibus):                  0.000   Jarque-Bera (JB):             1881.491\n",
      "Skew:                           1.154   Prob(JB):                         0.00\n",
      "Kurtosis:                       9.680   Cond. No.                         3.87\n",
      "==============================================================================\n",
      "\n",
      "Notes:\n",
      "[1] Standard Errors assume that the covariance matrix of the errors is correctly specified.\n"
     ]
    }
   ],
   "source": [
    "df.rename(columns = {'CO2 Emissions(g/km)':'CO2emissions'}, inplace = True)\n",
    "df.rename(columns = {'Fuel Type':'Fueltype'}, inplace = True)\n",
    "model = smf.ols(formula='CO2emissions ~ Fueltype + Engsizebinned', data=df).fit()\n",
    "\n",
    "# Print the model summary\n",
    "print(model.summary())"
   ]
  },
  {
   "cell_type": "markdown",
   "id": "bb75f5de",
   "metadata": {
    "scrolled": true
   },
   "source": [
    "### The regression equation can be written as:\n",
    "### CO2emissions = 202.9792 + 10.5318 * Fueltype[T.Z] + 60.1824 * Engsizebinned[T.Medium] + 124.8995 * Engsizebinned[T.Large]"
   ]
  },
  {
   "cell_type": "markdown",
   "id": "4b52110e",
   "metadata": {},
   "source": [
    "### The coefficients indicate how much the dependent variable changes when the independent variable increases by 1, while holding all other independent variables constant. For example, the coefficient of Engsizebinned[T.Medium] is 60.1824, which means that, holding the Fueltype constant, the 'CO2emissions' will increase by 60.1824 g/km when the engine size is medium instead of small. Similarly, the coefficient of Fueltype[T.Z] is 10.5318, which means that, holding the Engsizebinned constant, the 'CO2emissions' will increase by 10.5318 g/km when the fuel type is Z instead of X."
   ]
  },
  {
   "cell_type": "markdown",
   "id": "261e631c",
   "metadata": {},
   "source": [
    "### The R-squared value of 0.659 indicates that about 65.9% of the variability in the 'CO2emissions' can be explained by the independent variables included in the model. "
   ]
  },
  {
   "cell_type": "markdown",
   "id": "6e7ca798",
   "metadata": {},
   "source": [
    "### The F-statistic and its associated p-value suggest that the model is statistically significant in predicting CO2emissions. "
   ]
  },
  {
   "cell_type": "markdown",
   "id": "01934bdd",
   "metadata": {},
   "source": [
    "## Visualizing the Linear regression"
   ]
  },
  {
   "cell_type": "code",
   "execution_count": 19,
   "id": "cead7239",
   "metadata": {},
   "outputs": [
    {
     "data": {
      "image/png": "[encoded data removed]",
      "text/plain": [
       "<Figure size 432x288 with 1 Axes>"
      ]
     },
     "metadata": {
      "needs_background": "light"
     },
     "output_type": "display_data"
    }
   ],
   "source": [
    "df['Fueltypecp'] = df['Fueltype']\n",
    "fueltype_mapping = {'X': 0, 'Z': 1}\n",
    "df['Fueltype'] = df['Fueltype'].replace(fueltype_mapping)\n",
    "sns.scatterplot(data=df, x=\"Fueltype\", y=\"CO2emissions\", hue=\"Engsizebinned\")\n",
    "sns.regplot(data=df, x=\"Fueltype\", y=\"CO2emissions\", x_estimator=np.mean, scatter=False, color=\"black\")\n",
    "plt.title(\"Multiple Linear Regression\")\n",
    "plt.xlabel(\"Fuel Type\")\n",
    "plt.ylabel(\"CO2 Emissions\")\n",
    "plt.show()"
   ]
  },
  {
   "cell_type": "markdown",
   "id": "8254bf25",
   "metadata": {},
   "source": [
    "### Also, Since our dependent variable(y) 'CO2emissions' contains numeric values and not categorial values, we can't apply logistic regression.\n",
    "### However, if we still want to do the logistic regression, then we need to categorize it."
   ]
  },
  {
   "cell_type": "markdown",
   "id": "1513e21f",
   "metadata": {},
   "source": [
    "# 4.5 Resampling methods"
   ]
  },
  {
   "cell_type": "markdown",
   "id": "2598ada6",
   "metadata": {},
   "source": [
    "## Bootstrapping: Applying bootstrapping to the 'CO2emissions' column in the dataset:"
   ]
  },
  {
   "cell_type": "code",
   "execution_count": 20,
   "id": "af920548",
   "metadata": {},
   "outputs": [
    {
     "name": "stdout",
     "output_type": "stream",
     "text": [
      "Bootstrap Mean: 258.08\n",
      "Bootstrap 95% Confidence Interval: [253.62, 262.62]\n"
     ]
    }
   ],
   "source": [
    "CO2emissions = df['CO2emissions'].values\n",
    "num_bootstraps = 1000\n",
    "bootstrapped_stats = np.empty(num_bootstraps)\n",
    "for i in range(num_bootstraps):\n",
    "    bootstrap_sample = np.random.choice(CO2emissions, size=len(CO2emissions), replace=True)\n",
    "    bootstrapped_stats[i] = np.mean(bootstrap_sample)\n",
    "confidence_interval = np.percentile(bootstrapped_stats, [2.5, 97.5])\n",
    "print(\"Bootstrap Mean: {:.2f}\".format(np.mean(bootstrapped_stats)))\n",
    "print(\"Bootstrap 95% Confidence Interval: [{:.2f}, {:.2f}]\".format(confidence_interval[0], confidence_interval[1]))"
   ]
  },
  {
   "cell_type": "markdown",
   "id": "01ed658a",
   "metadata": {},
   "source": [
    "### The bootstrap 95% confidence interval of [253.70, 262.67] gives an estimated range of plausible values for the population mean of CO2 emissions. In other words, if we were to repeat the data collection process many times, the true mean of CO2 emissions would be expected to fall within this interval in approximately 95% of the cases."
   ]
  },
  {
   "cell_type": "markdown",
   "id": "a27b367a",
   "metadata": {},
   "source": [
    "## Cross-Validtion (5 fold)"
   ]
  },
  {
   "cell_type": "code",
   "execution_count": 21,
   "id": "4d4479ff",
   "metadata": {},
   "outputs": [],
   "source": [
    "label_encoder = LabelEncoder()\n",
    "model = LinearRegression()\n",
    "df['Engsizebinned'] = label_encoder.fit_transform(df['Engsizebinned'])\n",
    "df['Fueltype'] = label_encoder.fit_transform(df['Fueltype'])\n",
    "X = df[['Fueltype', 'Engsizebinned']]\n",
    "y = df['CO2emissions']"
   ]
  },
  {
   "cell_type": "code",
   "execution_count": 22,
   "id": "f8f8928e",
   "metadata": {},
   "outputs": [],
   "source": [
    "scores = cross_val_score(model, X, y, cv=5, scoring='r2')\n",
    "mean_r2 = scores.mean()"
   ]
  },
  {
   "cell_type": "code",
   "execution_count": 23,
   "id": "a5c3429f",
   "metadata": {},
   "outputs": [
    {
     "name": "stdout",
     "output_type": "stream",
     "text": [
      "Cross-validation scores: [0.2227022  0.53601371 0.6803536  0.48620599 0.64270053]\n",
      "Average R-squared score: 0.5135952066061625\n"
     ]
    }
   ],
   "source": [
    "print('Cross-validation scores:', scores)\n",
    "print('Average R-squared score:', scores.mean())"
   ]
  },
  {
   "cell_type": "markdown",
   "id": "02de9ddd",
   "metadata": {},
   "source": [
    "### The average R-squared score for the 5-fold cross-validation is 0.5135952066061616, which indicates that the model is able to explain around 52% of the variance in the target variable (CO2emissions) using the predictor variables (Fueltype and Engsizebinned). This score is obtained by taking the mean of the R-squared scores calculated for each fold of the cross-validation.\n",
    "\n"
   ]
  },
  {
   "cell_type": "markdown",
   "id": "d4b2bf19",
   "metadata": {},
   "source": [
    " # 4.6 Linear Model Selection and Regularization"
   ]
  },
  {
   "cell_type": "markdown",
   "id": "0001260d",
   "metadata": {},
   "source": [
    "## Ridge Regression:"
   ]
  },
  {
   "cell_type": "code",
   "execution_count": 24,
   "id": "98da3fbe",
   "metadata": {},
   "outputs": [
    {
     "name": "stdout",
     "output_type": "stream",
     "text": [
      "Best hyperparameters:  {'ridge__alpha': 10.0}\n",
      "Test R-squared score:  0.593535290040575\n"
     ]
    }
   ],
   "source": [
    "X_train, X_test, y_train, y_test = train_test_split(X, y, test_size=0.25, random_state=21)\n",
    "model = make_pipeline(\n",
    "    StandardScaler(),\n",
    "    Ridge(alpha=1.0)\n",
    ")\n",
    "param_grid = {\n",
    "    'ridge__alpha': [0.1, 1.0, 10.0]\n",
    "}\n",
    "grid_search = GridSearchCV(model, param_grid=param_grid, cv=5)\n",
    "grid_search.fit(X_train, y_train\n",
    "print(\"Best hyperparameters: \", grid_search.best_params_)\n",
    "test_score = grid_search.score(X_test, y_test)\n",
    "print(\"Test R-squared score: \", test_score)"
   ]
  },
  {
   "cell_type": "markdown",
   "id": "7e23827c",
   "metadata": {},
   "source": [
    "### The best hyperparameter found was an alpha value of 10 for the Ridge regression model.\n",
    "### The test R-squared score obtained with this model is 0.5935, which is an improvement over the initial linear regression model. This means that the model explains around 59.35% of the variability in the test set."
   ]
  },
  {
   "cell_type": "markdown",
   "id": "684b71fa",
   "metadata": {},
   "source": [
    "## Lasso Regression:"
   ]
  },
  {
   "cell_type": "code",
   "execution_count": 25,
   "id": "6e104995",
   "metadata": {},
   "outputs": [
    {
     "name": "stdout",
     "output_type": "stream",
     "text": [
      "Best hyperparameters:  {'lasso__alpha': 0.1}\n",
      "Test R-squared score:  0.594323590110876\n"
     ]
    }
   ],
   "source": [
    "lasso_pipe = make_pipeline(\n",
    "    StandardScaler(),\n",
    "    Lasso(random_state=21)\n",
    ")    \n",
    "lasso_param_grid = {\n",
    "    'lasso__alpha': [0.01, 0.1, 1, 10, 100]\n",
    "}\n",
    "lasso_grid = GridSearchCV(\n",
    "    estimator=lasso_pipe,\n",
    "    param_grid=lasso_param_grid,\n",
    "    cv=5,\n",
    "    scoring='r2'\n",
    ")\n",
    "lasso_grid.fit(X_train, y_train)\n",
    "print(\"Best hyperparameters: \", lasso_grid.best_params_)\n",
    "print(\"Test R-squared score: \", lasso_grid.score(X_test, y_test))"
   ]
  },
  {
   "cell_type": "markdown",
   "id": "99cfd1ce",
   "metadata": {},
   "source": [
    "### Lasso Regression is more suitable for this dataset"
   ]
  },
  {
   "cell_type": "markdown",
   "id": "ba1562e1",
   "metadata": {},
   "source": [
    "# 4.7 Moving beyond Linearity "
   ]
  },
  {
   "cell_type": "markdown",
   "id": "74076b01",
   "metadata": {},
   "source": [
    "### We'll perform the polynomial regression ( degrees 1 to 10) for our model"
   ]
  },
  {
   "cell_type": "code",
   "execution_count": 26,
   "id": "b8080445",
   "metadata": {},
   "outputs": [
    {
     "data": {
      "image/png": "[encoded data removed]",
      "text/plain": [
       "<Figure size 432x288 with 1 Axes>"
      ]
     },
     "metadata": {
      "needs_background": "light"
     },
     "output_type": "display_data"
    }
   ],
   "source": [
    "degrees = [1, 2, 3, 4, 5, 6, 7, 8, 9, 10]\n",
    "r2_scores = []\n",
    "\n",
    "for degree in degrees:\n",
    "    poly = PolynomialFeatures(degree=degree)\n",
    "    X_poly = poly.fit_transform(X)\n",
    "    model = LinearRegression()\n",
    "    model.fit(X_poly, y)\n",
    "    y_pred = model.predict(X_poly)\n",
    "    r2_scores.append(r2_score(y, y_pred))\n",
    "\n",
    "plt.plot(degrees, r2_scores)\n",
    "plt.xlabel('Polynomial Degree')\n",
    "plt.ylabel('R-squared score')\n",
    "plt.title('Polynomial Regression')\n",
    "plt.show()"
   ]
  },
  {
   "cell_type": "markdown",
   "id": "10378384",
   "metadata": {},
   "source": [
    "### We can see that for degree = 4 and beyond, the r2 score is much more higher(around 67%) than for degree = 1,2 or 3"
   ]
  },
  {
   "cell_type": "markdown",
   "id": "a8e339b3",
   "metadata": {},
   "source": [
    "## Piecewise Linear spline model"
   ]
  },
  {
   "cell_type": "code",
   "execution_count": 27,
   "id": "0c778ef2",
   "metadata": {},
   "outputs": [
    {
     "name": "stdout",
     "output_type": "stream",
     "text": [
      "R-squared score: 0.6942\n"
     ]
    }
   ],
   "source": [
    "df1 = pd.read_csv(\"C:/Users/15513/OneDrive - stevens.edu/Fuel consumption-MA541.csv\")\n",
    "df1 = df1[['Engine Size(L)', 'CO2 Emissions(g/km)']].dropna()\n",
    "x = df1['Engine Size(L)'].values\n",
    "y = df1['CO2 Emissions(g/km)'].values\n",
    "linear_fit = pwlf.PiecewiseLinFit(x, y)\n",
    "linear_fit.fitfast(2)\n",
    "linear_r2 = r2_score(y, linear_fit.predict(x))\n",
    "print(f\"R-squared score: {linear_r2:.4f}\")"
   ]
  },
  {
   "cell_type": "code",
   "execution_count": 28,
   "id": "1d227003",
   "metadata": {},
   "outputs": [
    {
     "data": {
      "image/png": "[encoded data removed]",
      "text/plain": [
       "<Figure size 432x288 with 1 Axes>"
      ]
     },
     "metadata": {
      "needs_background": "light"
     },
     "output_type": "display_data"
    }
   ],
   "source": [
    "linear_pred = linear_fit.predict(x)\n",
    "plt.scatter(x, y, s=5, label='Data')\n",
    "plt.plot(x, linear_pred, color='r', label='Piecewise Linear Fit')\n",
    "plt.xlabel('Engine Size (L)')\n",
    "plt.ylabel('CO2 Emissions (g/km)')\n",
    "plt.legend()\n",
    "plt.show()"
   ]
  },
  {
   "cell_type": "markdown",
   "id": "8f548617",
   "metadata": {},
   "source": [
    "### Based on the piecewise linear regression analysis, we can see that the relationship between engine size and CO2 emissions is not a simple linear relationship, but rather a relationship that can be better represented by piecewise linear functions. This suggests that there may be different factors affecting CO2 emissions at different ranges of engine sizes."
   ]
  },
  {
   "cell_type": "markdown",
   "id": "97de63de",
   "metadata": {},
   "source": [
    "## Cubic Spline"
   ]
  },
  {
   "cell_type": "code",
   "execution_count": 29,
   "id": "9e892f48",
   "metadata": {},
   "outputs": [
    {
     "data": {
      "image/png": "[encoded data removed]",
      "text/plain": [
       "<Figure size 432x288 with 1 Axes>"
      ]
     },
     "metadata": {
      "needs_background": "light"
     },
     "output_type": "display_data"
    },
    {
     "data": {
      "text/plain": [
       "1.0"
      ]
     },
     "execution_count": 29,
     "metadata": {},
     "output_type": "execute_result"
    }
   ],
   "source": [
    "x = df1.iloc[:, 0].to_numpy()\n",
    "y = df1.iloc[:, 1].to_numpy()\n",
    "x, idx = np.unique(x, return_index=True)\n",
    "y = y[idx]\n",
    "idx = np.argsort(x)\n",
    "x = x[idx]\n",
    "y = y[idx]\n",
    "cs = interp1d(x, y, kind='cubic')\n",
    "x_new = np.linspace(x.min(), x.max(), num=1000)\n",
    "y_new = cs(x_new)\n",
    "plt.plot(x, y, 'o', label='Original Data')\n",
    "plt.plot(x_new, y_new, label='Cubic Spline')\n",
    "plt.legend()\n",
    "plt.show()\n",
    "r2_score(y, cs(x))"
   ]
  },
  {
   "cell_type": "markdown",
   "id": "09fa3665",
   "metadata": {},
   "source": [
    "### A R-squared score of 1 indicates that the cubic spline perfectly fits the data. It means that all the variability in the data is accounted for by the model."
   ]
  }
 ],
 "metadata": {
  "kernelspec": {
   "display_name": "Python 3 (ipykernel)",
   "language": "python",
   "name": "python3"
  },
  "language_info": {
   "codemirror_mode": {
    "name": "ipython",
    "version": 3
   },
   "file_extension": ".py",
   "mimetype": "text/x-python",
   "name": "python",
   "nbconvert_exporter": "python",
   "pygments_lexer": "ipython3",
   "version": "3.9.12"
  }
 },
 "nbformat": 4,
 "nbformat_minor": 5
}
